{
 "cells": [
  {
   "cell_type": "code",
   "execution_count": 2,
   "metadata": {},
   "outputs": [
    {
     "name": "stdout",
     "output_type": "stream",
     "text": [
      "120021 is a palindrome.\n"
     ]
    }
   ],
   "source": [
    "def is_palindrome(number):\n",
    "    original_number = number\n",
    "    reversed_number = 0\n",
    "\n",
    "    while number > 0:\n",
    "        digit = number % 10\n",
    "        reversed_number = reversed_number * 10 + digit\n",
    "        number = number // 10\n",
    "\n",
    "    return original_number == reversed_number\n",
    "\n",
    "# Input the number to check for palindrome\n",
    "input_number = int(input(\"Enter a number to check for palindrome: \"))\n",
    "\n",
    "# Check and print the result\n",
    "if is_palindrome(input_number):\n",
    "    print(f\"{input_number} is a palindrome.\")\n",
    "else:\n",
    "    print(f\"{input_number} is not a palindrome.\")\n"
   ]
  }
 ],
 "metadata": {
  "kernelspec": {
   "display_name": "Python 3",
   "language": "python",
   "name": "python3"
  },
  "language_info": {
   "codemirror_mode": {
    "name": "ipython",
    "version": 3
   },
   "file_extension": ".py",
   "mimetype": "text/x-python",
   "name": "python",
   "nbconvert_exporter": "python",
   "pygments_lexer": "ipython3",
   "version": "3.12.1"
  }
 },
 "nbformat": 4,
 "nbformat_minor": 2
}
