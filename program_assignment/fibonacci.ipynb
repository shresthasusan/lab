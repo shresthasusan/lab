{
 "cells": [
  {
   "cell_type": "code",
   "execution_count": 4,
   "metadata": {},
   "outputs": [
    {
     "name": "stdout",
     "output_type": "stream",
     "text": [
      "Fibonacci sequence up to 10:\n",
      "[0, 1, 1, 2, 3, 5, 8]\n"
     ]
    }
   ],
   "source": [
    "def generate_fibonacci_up_to(n):\n",
    "    fibonacci_sequence = [0, 1]\n",
    "\n",
    "    while fibonacci_sequence[-1] + fibonacci_sequence[-2] <= n:\n",
    "        next_term = fibonacci_sequence[-1] + fibonacci_sequence[-2]\n",
    "        fibonacci_sequence.append(next_term)\n",
    "\n",
    "    return fibonacci_sequence\n",
    "\n",
    "# Example usage:\n",
    "number_range = int(input(\"Enter a number to generate Fibonacci sequence up to: \"))\n",
    "fibonacci_sequence = generate_fibonacci_up_to(number_range)\n",
    "\n",
    "print(f\"Fibonacci sequence up to {number_range}:\")\n",
    "print(fibonacci_sequence)"
   ]
  }
 ],
 "metadata": {
  "kernelspec": {
   "display_name": "Python 3",
   "language": "python",
   "name": "python3"
  },
  "language_info": {
   "codemirror_mode": {
    "name": "ipython",
    "version": 3
   },
   "file_extension": ".py",
   "mimetype": "text/x-python",
   "name": "python",
   "nbconvert_exporter": "python",
   "pygments_lexer": "ipython3",
   "version": "3.12.1"
  }
 },
 "nbformat": 4,
 "nbformat_minor": 2
}
